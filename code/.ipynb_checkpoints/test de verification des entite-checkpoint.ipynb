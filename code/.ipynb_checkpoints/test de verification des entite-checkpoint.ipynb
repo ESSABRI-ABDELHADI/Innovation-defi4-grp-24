{
 "cells": [
  {
   "cell_type": "code",
   "execution_count": 1,
   "id": "d507bfd6",
   "metadata": {},
   "outputs": [],
   "source": [
    "from transformers import AutoTokenizer, AutoModelForTokenClassification\n",
    "from transformers import pipeline\n",
    "import networkx as nx\n",
    "import matplotlib.pyplot as plt"
   ]
  },
  {
   "cell_type": "code",
   "execution_count": 2,
   "id": "eacc4bd6",
   "metadata": {},
   "outputs": [],
   "source": [
    "\n",
    "\n",
    "# Charger le tokenizer et le modèle NER\n",
    "tokenizer = AutoTokenizer.from_pretrained(\"Jean-Baptiste/camembert-ner\")\n",
    "model = AutoModelForTokenClassification.from_pretrained(\"Jean-Baptiste/camembert-ner\")\n"
   ]
  },
  {
   "cell_type": "code",
   "execution_count": 3,
   "id": "0f34ce90",
   "metadata": {},
   "outputs": [],
   "source": [
    "nlp = pipeline('ner', model=model, tokenizer=tokenizer, aggregation_strategy=\"simple\")"
   ]
  },
  {
   "cell_type": "code",
   "execution_count": 4,
   "id": "ff3e0cb8",
   "metadata": {},
   "outputs": [],
   "source": [
    "with open('../data/corpus_ASIMOV_leaderboard/corpus_asimov_leaderboard/prelude_a_fondation/chapter_1.txt.preprocessed', 'r', encoding='utf-8') as file:\n",
    "    text = file.read()\n"
   ]
  },
  {
   "cell_type": "code",
   "execution_count": 5,
   "id": "bd8b3a29",
   "metadata": {},
   "outputs": [],
   "source": [
    "entities = nlp(text)"
   ]
  },
  {
   "cell_type": "code",
   "execution_count": 11,
   "id": "ec8ee434",
   "metadata": {},
   "outputs": [],
   "source": [
    "manual_entities = [\"Alban Wellis\", \"Exos\"]"
   ]
  },
  {
   "cell_type": "code",
   "execution_count": 12,
   "id": "c5b1c768",
   "metadata": {},
   "outputs": [],
   "source": [
    "for manual_entity in manual_entities:\n",
    "    if manual_entity not in [entity['word'] for entity in entities]:\n",
    "        entities.append({'entity_group': 'PER', 'index': 0, 'score': 1.0, 'start': 0, 'end': 0, 'word': manual_entity})\n"
   ]
  },
  {
   "cell_type": "code",
   "execution_count": 13,
   "id": "27506b89",
   "metadata": {},
   "outputs": [],
   "source": [
    "G = nx.DiGraph()"
   ]
  },
  {
   "cell_type": "code",
   "execution_count": 14,
   "id": "b10ce788",
   "metadata": {},
   "outputs": [
    {
     "name": "stdout",
     "output_type": "stream",
     "text": [
      "{'entity_group': 'PER', 'score': 0.8994273, 'word': 'CLÉON Ier—', 'start': 47, 'end': 58}\n",
      "{'entity_group': 'PER', 'score': 0.8357271, 'word': 'Empereur', 'start': 70, 'end': 79}\n",
      "{'entity_group': 'MISC', 'score': 0.8041457, 'word': 'dynastie Entun', 'start': 96, 'end': 111}\n",
      "{'entity_group': 'MISC', 'score': 0.84702146, 'word': 'Ère Galactique', 'start': 135, 'end': 149}\n",
      "{'entity_group': 'PER', 'score': 0.9985447, 'word': 'Hari Seldon', 'start': 168, 'end': 180}\n",
      "{'entity_group': 'PER', 'score': 0.9984249, 'word': 'Seldon', 'start': 219, 'end': 226}\n",
      "{'entity_group': 'PER', 'score': 0.9984953, 'word': 'Cléon', 'start': 315, 'end': 321}\n",
      "{'entity_group': 'PER', 'score': 0.9982604, 'word': 'Seldon', 'start': 325, 'end': 332}\n",
      "{'entity_group': 'LOC', 'score': 0.9419266, 'word': 'Trantor', 'start': 359, 'end': 367}\n",
      "{'entity_group': 'PER', 'score': 0.9988409, 'word': 'Cléon', 'start': 401, 'end': 407}\n",
      "{'entity_group': 'PER', 'score': 0.99868935, 'word': 'Eto Demerzel', 'start': 623, 'end': 636}\n",
      "{'entity_group': 'PER', 'score': 0.9986285, 'word': 'Cléon', 'start': 749, 'end': 755}\n",
      "{'entity_group': 'PER', 'score': 0.9988129, 'word': 'Cléon', 'start': 877, 'end': 883}\n",
      "{'entity_group': 'PER', 'score': 0.9976721, 'word': 'Demerzel', 'start': 895, 'end': 904}\n",
      "{'entity_group': 'PER', 'score': 0.99874413, 'word': 'Hari Seldon', 'start': 958, 'end': 970}\n",
      "{'entity_group': 'PER', 'score': 0.9986483, 'word': 'Cléon', 'start': 979, 'end': 985}\n",
      "{'entity_group': 'MISC', 'score': 0.99647385, 'word': 'Encyclopaedia Galactica', 'start': 1265, 'end': 1288}\n",
      "{'entity_group': 'MISC', 'score': 0.9521742, 'word': \"Société d’édition de l'Encyclopaedia Galactica\", 'start': 1364, 'end': 1411}\n",
      "{'entity_group': 'MISC', 'score': 0.6318489, 'word': 'Terminus', 'start': 1412, 'end': 1421}\n",
      "{'entity_group': 'ORG', 'score': 0.88400954, 'word': 'ministre des Sciences', 'start': 1593, 'end': 1615}\n",
      "{'entity_group': 'PER', 'score': 0.9987272, 'word': 'Hari Seldon', 'start': 1660, 'end': 1672}\n",
      "{'entity_group': 'LOC', 'score': 0.9822532, 'word': 'Trantor', 'start': 1725, 'end': 1733}\n",
      "{'entity_group': 'PER', 'score': 0.9985532, 'word': 'Demerzel', 'start': 1874, 'end': 1883}\n",
      "{'entity_group': 'ORG', 'score': 0.83082074, 'word': 'ministre des Sciences', 'start': 1919, 'end': 1941}\n",
      "{'entity_group': 'PER', 'index': 0, 'score': 1.0, 'start': 0, 'end': 0, 'word': 'Alban Wellis'}\n",
      "{'entity_group': 'PER', 'index': 0, 'score': 1.0, 'start': 0, 'end': 0, 'word': 'Exos'}\n",
      "{'entity': 'PER', 'score': 1.0, 'word': 'Alban Wellis', 'start': 3620, 'end': 3632}\n"
     ]
    },
    {
     "ename": "KeyError",
     "evalue": "'entity_group'",
     "output_type": "error",
     "traceback": [
      "\u001b[1;31m---------------------------------------------------------------------------\u001b[0m",
      "\u001b[1;31mKeyError\u001b[0m                                  Traceback (most recent call last)",
      "Input \u001b[1;32mIn [14]\u001b[0m, in \u001b[0;36m<cell line: 3>\u001b[1;34m()\u001b[0m\n\u001b[0;32m      3\u001b[0m \u001b[38;5;28;01mfor\u001b[39;00m entity \u001b[38;5;129;01min\u001b[39;00m entities:\n\u001b[0;32m      4\u001b[0m     \u001b[38;5;28mprint\u001b[39m(entity)\n\u001b[1;32m----> 5\u001b[0m     \u001b[38;5;28;01mif\u001b[39;00m \u001b[43mentity\u001b[49m\u001b[43m[\u001b[49m\u001b[38;5;124;43m'\u001b[39;49m\u001b[38;5;124;43mentity_group\u001b[39;49m\u001b[38;5;124;43m'\u001b[39;49m\u001b[43m]\u001b[49m \u001b[38;5;241m==\u001b[39m \u001b[38;5;124m'\u001b[39m\u001b[38;5;124mPER\u001b[39m\u001b[38;5;124m'\u001b[39m:\n\u001b[0;32m      6\u001b[0m         current_person \u001b[38;5;241m=\u001b[39m entity[\u001b[38;5;124m'\u001b[39m\u001b[38;5;124mword\u001b[39m\u001b[38;5;124m'\u001b[39m]\n\u001b[0;32m      7\u001b[0m         \u001b[38;5;28;01mif\u001b[39;00m last_person \u001b[38;5;129;01mis\u001b[39;00m \u001b[38;5;129;01mnot\u001b[39;00m \u001b[38;5;28;01mNone\u001b[39;00m:\n",
      "\u001b[1;31mKeyError\u001b[0m: 'entity_group'"
     ]
    }
   ],
   "source": [
    "last_person = None\n",
    "\n",
    "for entity in entities:\n",
    "    print(entity)\n",
    "    if entity['entity_group'] == 'PER':\n",
    "        current_person = entity['word']\n",
    "        if last_person is not None:\n",
    "            num_words_between = len(text.split())  # Modifier cette ligne selon votre besoin\n",
    "            G.add_edge(last_person, current_person, weight=num_words_between)\n",
    "        last_person = current_person\n",
    "\n",
    "# Afficher le graphe\n",
    "pos = nx.spring_layout(G)\n",
    "nx.draw(G, pos, with_labels=True, font_weight='bold', node_color='skyblue', node_size=2000, font_size=10)\n",
    "edge_labels = nx.get_edge_attributes(G, 'weight')\n",
    "nx.draw_networkx_edge_labels(G, pos, edge_labels=edge_labels)\n",
    "plt.show()"
   ]
  },
  {
   "cell_type": "code",
   "execution_count": null,
   "id": "97561762",
   "metadata": {},
   "outputs": [],
   "source": []
  }
 ],
 "metadata": {
  "kernelspec": {
   "display_name": "Python 3 (ipykernel)",
   "language": "python",
   "name": "python3"
  },
  "language_info": {
   "codemirror_mode": {
    "name": "ipython",
    "version": 3
   },
   "file_extension": ".py",
   "mimetype": "text/x-python",
   "name": "python",
   "nbconvert_exporter": "python",
   "pygments_lexer": "ipython3",
   "version": "3.9.12"
  }
 },
 "nbformat": 4,
 "nbformat_minor": 5
}
