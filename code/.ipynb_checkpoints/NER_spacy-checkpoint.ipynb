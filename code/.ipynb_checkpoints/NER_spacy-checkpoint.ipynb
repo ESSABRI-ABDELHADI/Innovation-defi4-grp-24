{
 "cells": [
  {
   "cell_type": "code",
   "execution_count": 1,
   "metadata": {},
   "outputs": [],
   "source": [
    "import os\n",
    "import spacy\n",
    "\n",
    "def phrase_balisé(doc):\n",
    "    nlp = spacy.load('fr_core_news_sm')\n",
    "    st = doc\n",
    "    doc = nlp(doc)\n",
    "    global pas\n",
    "    pas = 0\n",
    "    for ent in doc.ents:\n",
    "        tag = '[' + ent.label_ + ']'  # définir la balise\n",
    "        end_tag = '[' + ent.label_ + '/]'  # définir la fin de la balise\n",
    "\n",
    "        if ent.start_char == 0:  # si le mot concerné se trouve au début\n",
    "            st = st[:ent.start_char] + tag + ' ' + st[ent.start_char:]\n",
    "            st = st[:ent.end_char + len(tag) + 1] + ' ' + end_tag + st[ent.end_char + len(tag) + 1:]\n",
    "            pas = len(tag) + len(end_tag) + 2\n",
    "        else:\n",
    "            st = st[:ent.start_char + pas] + tag + ' ' + st[ent.start_char + pas:]\n",
    "            pas += (len(tag) + 1)\n",
    "            st = st[:ent.end_char + pas] + ' ' + end_tag + st[ent.end_char + pas:]\n",
    "            pas += (len(end_tag) + 1)\n",
    "\n",
    "    return st"
   ]
  },
  {
   "cell_type": "code",
   "execution_count": null,
   "metadata": {},
   "outputs": [],
   "source": []
  },
  {
   "cell_type": "code",
   "execution_count": 50,
   "metadata": {},
   "outputs": [],
   "source": [
    "from pathlib import Path\n",
    "def formatter_files(files):\n",
    "    \n",
    "    for file in files:\n",
    "        print(f'Traitement du fichier: {file}...')\n",
    "        # Lire le contenu du fichier texte\n",
    "        # Utiliser Path.cwd() pour obtenir le chemin actuel\n",
    "        chemin_actuel = Path.cwd()\n",
    "        # Construire le chemin complet relatif\n",
    "        PATH_FILE = chemin_actuel.parent / 'fomatage_utf8' / file\n",
    "        with open(os.path.join(PATH_FILE), 'r', encoding='utf-8') as f:\n",
    "            contenu = f.read()\n",
    "        print(\"*******************\")\n",
    "\n",
    "        # Diviser le texte en morceaux de 100000 caractères ou moins\n",
    "        taille_limite = 100000\n",
    "        morceaux = [contenu[i:i+taille_limite] for i in range(0, len(contenu), taille_limite)]\n",
    "\n",
    "        # Concaténer le nom du fichier avec 'NER' pour créer le nom du fichier de sortie\n",
    "        nom_fichier_sans_extension = os.path.splitext(os.path.basename(file))[0]\n",
    "        print('************************')\n",
    "        nom_fichier_sortie = nom_fichier_sans_extension + '_NER.txt'\n",
    "        OUTPUT_PATH_FILE = chemin_actuel.parent / 'fomatage_utf8' / nom_fichier_sortie\n",
    "\n",
    "        # Traiter chaque morceau séparément et sauvegarder la sortie dans un fichier formaté\n",
    "        with open(OUTPUT_PATH_FILE, 'a', encoding='utf-8') as sortie_fichier:\n",
    "            for morceau in morceaux:\n",
    "                sortie_fichier.write(phrase_balisé(morceau))                \n"
   ]
  },
  {
   "cell_type": "code",
   "execution_count": 51,
   "metadata": {},
   "outputs": [
    {
     "name": "stdout",
     "output_type": "stream",
     "text": [
      "Traitement du fichier: Fondation_et_empire_sample.txt...\n",
      "*******************\n",
      "************************\n",
      "Traitement du fichier: Fondation_foudroyée_sample.txt...\n",
      "*******************\n",
      "************************\n",
      "Traitement du fichier: Fondation_sample.txt...\n",
      "*******************\n",
      "************************\n",
      "Traitement du fichier: Terre_et_Fondation_sample.txt...\n",
      "*******************\n",
      "************************\n"
     ]
    }
   ],
   "source": [
    "files=['Fondation_et_empire_sample.txt','Fondation_foudroyée_sample.txt','Fondation_sample.txt','Terre_et_Fondation_sample.txt']\n",
    "\n",
    "formatter_files(files)"
   ]
  },
  {
   "cell_type": "code",
   "execution_count": 52,
   "metadata": {},
   "outputs": [
    {
     "name": "stdout",
     "output_type": "stream",
     "text": [
      "ok\n"
     ]
    }
   ],
   "source": [
    "print('ok')"
   ]
  }
 ],
 "metadata": {
  "kernelspec": {
   "display_name": "Python 3 (ipykernel)",
   "language": "python",
   "name": "python3"
  },
  "language_info": {
   "codemirror_mode": {
    "name": "ipython",
    "version": 3
   },
   "file_extension": ".py",
   "mimetype": "text/x-python",
   "name": "python",
   "nbconvert_exporter": "python",
   "pygments_lexer": "ipython3",
   "version": "3.9.12"
  }
 },
 "nbformat": 4,
 "nbformat_minor": 2
}
